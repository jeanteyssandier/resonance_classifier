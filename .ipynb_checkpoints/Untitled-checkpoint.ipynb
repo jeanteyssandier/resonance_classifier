{
 "cells": [
  {
   "cell_type": "code",
   "execution_count": 1,
   "id": "0a4b8223-b3de-4f84-9494-18fe1e16c953",
   "metadata": {},
   "outputs": [],
   "source": [
    "import rebound\n",
    "import numpy as np"
   ]
  },
  {
   "cell_type": "code",
   "execution_count": 25,
   "id": "ff8af6d3-7010-4919-9591-2579238aa10a",
   "metadata": {},
   "outputs": [],
   "source": [
    "yr = 2*np.pi"
   ]
  },
  {
   "cell_type": "code",
   "execution_count": 2,
   "id": "6aa089a8-aab1-42a1-a7d4-2a9859d87e80",
   "metadata": {},
   "outputs": [],
   "source": [
    "sim = rebound.Simulation()\n",
    "sim.add(m=1.)                # Central object\n",
    "sim.add(m=0.001, a=5., e=0) \n",
    "sim.add(m=1., a=25.) "
   ]
  },
  {
   "cell_type": "code",
   "execution_count": 3,
   "id": "4c81e4b8-6778-4cb2-9183-8319aa4b9f7b",
   "metadata": {},
   "outputs": [],
   "source": [
    "ps = sim.particles"
   ]
  },
  {
   "cell_type": "code",
   "execution_count": 15,
   "id": "ec675579-ea2b-4ede-b7fb-5a48ee12d669",
   "metadata": {},
   "outputs": [],
   "source": [
    "P1 = ps[1].P\n",
    "P2 = ps[2].P\n",
    "a1 = ps[1].a\n",
    "a2 = ps[2].a\n",
    "m0 = ps[0].m\n",
    "m1 = ps[1].m\n",
    "m2 = ps[2].m"
   ]
  },
  {
   "cell_type": "code",
   "execution_count": 30,
   "id": "6cdac62d-0b07-41eb-ab90-c7dd3045d318",
   "metadata": {},
   "outputs": [],
   "source": [
    "aa3 = np.power(a2/a1,3.)"
   ]
  },
  {
   "cell_type": "code",
   "execution_count": 33,
   "id": "ad253937-6412-438f-9d37-9d05c3b3e34d",
   "metadata": {},
   "outputs": [],
   "source": [
    "ts = P1 * aa3 * (m0/m2) "
   ]
  },
  {
   "cell_type": "code",
   "execution_count": 34,
   "id": "399699c2-5d70-4dff-9922-116e6b63ae9f",
   "metadata": {},
   "outputs": [
    {
     "name": "stdout",
     "output_type": "stream",
     "text": [
      "Secular timescale =  1396.8442383364832 yr\n"
     ]
    }
   ],
   "source": [
    "print (\"Secular timescale = \", ts/yr, \"yr\" )"
   ]
  }
 ],
 "metadata": {
  "kernelspec": {
   "display_name": "Python 3 (ipykernel)",
   "language": "python",
   "name": "python3"
  },
  "language_info": {
   "codemirror_mode": {
    "name": "ipython",
    "version": 3
   },
   "file_extension": ".py",
   "mimetype": "text/x-python",
   "name": "python",
   "nbconvert_exporter": "python",
   "pygments_lexer": "ipython3",
   "version": "3.8.5"
  }
 },
 "nbformat": 4,
 "nbformat_minor": 5
}
