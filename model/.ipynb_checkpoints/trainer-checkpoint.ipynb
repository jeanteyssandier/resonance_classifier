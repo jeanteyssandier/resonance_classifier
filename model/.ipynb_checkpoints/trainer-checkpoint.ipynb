{
 "cells": [
  {
   "cell_type": "code",
   "execution_count": 1,
   "id": "aafb1125-bf79-46e9-b98d-1bf2b817a713",
   "metadata": {},
   "outputs": [],
   "source": [
    "import os\n",
    "os.environ['TF_CPP_MIN_LOG_LEVEL'] = '2'\n",
    "import numpy as np\n",
    "import matplotlib.pyplot as plt\n",
    "import pickle\n",
    "import tensorflow as tf\n",
    "from tensorflow.keras.models import Sequential\n",
    "from tensorflow.keras.layers import Dense, Dropout, Activation, Flatten, Conv2D, MaxPooling2D, BatchNormalization\n",
    "from keras.models import model_from_json\n",
    "from keras.models import load_model\n",
    "from keras.callbacks import EarlyStopping\n",
    "from sklearn.model_selection import train_test_split"
   ]
  },
  {
   "cell_type": "code",
   "execution_count": 2,
   "id": "8ef6a1d6-dcbe-4bf5-8b95-931a2b909308",
   "metadata": {},
   "outputs": [],
   "source": [
    "# Opening the files containing data\n",
    "X = pickle.load(open(\"X.pickle\", \"rb\"))\n",
    "y = np.array(pickle.load(open(\"y.pickle\", \"rb\")))\n",
    "\n",
    "# normalizing data (a pixel goes from 0 to 255)\n",
    "X = X/255.0"
   ]
  },
  {
   "cell_type": "code",
   "execution_count": 3,
   "id": "44f15497-69a6-42ab-b76e-3cbacfeac31d",
   "metadata": {},
   "outputs": [],
   "source": [
    "model = Sequential([\n",
    "    Conv2D(input_shape = X.shape[1:], filters=8, kernel_size=16, activation='relu'),\n",
    "    MaxPooling2D(2,2),\n",
    "    Conv2D(32, (3,3), activation='relu'),\n",
    "    MaxPooling2D(2,2),\n",
    "    Conv2D(64, (3,3), activation='relu'),\n",
    "    MaxPooling2D(2,2),\n",
    "    Conv2D(64, (3,3), activation='relu'),\n",
    "    MaxPooling2D(2,2),\n",
    "    Flatten(),\n",
    "    Dense(128, activation='relu'),\n",
    "    Dropout(0.5),\n",
    "    Dense(units=3, activation='softmax')\n",
    "    ])"
   ]
  },
  {
   "cell_type": "code",
   "execution_count": 4,
   "id": "88ed0c4d-3083-4ef0-95be-8d02ea0b7853",
   "metadata": {},
   "outputs": [
    {
     "name": "stdout",
     "output_type": "stream",
     "text": [
      "Model: \"sequential\"\n",
      "_________________________________________________________________\n",
      "Layer (type)                 Output Shape              Param #   \n",
      "=================================================================\n",
      "conv2d (Conv2D)              (None, 113, 113, 8)       2056      \n",
      "_________________________________________________________________\n",
      "max_pooling2d (MaxPooling2D) (None, 56, 56, 8)         0         \n",
      "_________________________________________________________________\n",
      "conv2d_1 (Conv2D)            (None, 54, 54, 32)        2336      \n",
      "_________________________________________________________________\n",
      "max_pooling2d_1 (MaxPooling2 (None, 27, 27, 32)        0         \n",
      "_________________________________________________________________\n",
      "conv2d_2 (Conv2D)            (None, 25, 25, 64)        18496     \n",
      "_________________________________________________________________\n",
      "max_pooling2d_2 (MaxPooling2 (None, 12, 12, 64)        0         \n",
      "_________________________________________________________________\n",
      "conv2d_3 (Conv2D)            (None, 10, 10, 64)        36928     \n",
      "_________________________________________________________________\n",
      "max_pooling2d_3 (MaxPooling2 (None, 5, 5, 64)          0         \n",
      "_________________________________________________________________\n",
      "flatten (Flatten)            (None, 1600)              0         \n",
      "_________________________________________________________________\n",
      "dense (Dense)                (None, 128)               204928    \n",
      "_________________________________________________________________\n",
      "dropout (Dropout)            (None, 128)               0         \n",
      "_________________________________________________________________\n",
      "dense_1 (Dense)              (None, 3)                 387       \n",
      "=================================================================\n",
      "Total params: 265,131\n",
      "Trainable params: 265,131\n",
      "Non-trainable params: 0\n",
      "_________________________________________________________________\n"
     ]
    }
   ],
   "source": [
    "model.summary()"
   ]
  },
  {
   "cell_type": "code",
   "execution_count": 5,
   "id": "18476513-f849-4486-9244-775e86a39327",
   "metadata": {},
   "outputs": [],
   "source": [
    "# Add stop and if model starts to overfit\n",
    "early_stopping_monitor = EarlyStopping(\n",
    "    monitor='val_loss',\n",
    "    min_delta=0,\n",
    "    patience=5,\n",
    "    verbose=0,\n",
    "    mode='auto',\n",
    "    baseline=None,\n",
    "    restore_best_weights=True\n",
    ")"
   ]
  },
  {
   "cell_type": "code",
   "execution_count": 6,
   "id": "7fdc9eac-92fd-41d9-ba71-ef6483b74ca9",
   "metadata": {},
   "outputs": [],
   "source": [
    "# Compiling the model using some basic parameters\n",
    "model.compile(loss=\"sparse_categorical_crossentropy\",\n",
    "    optimizer=\"adam\",\n",
    "    metrics=[\"accuracy\"])"
   ]
  },
  {
   "cell_type": "code",
   "execution_count": 7,
   "id": "b360255c-4496-4e2d-b2c8-3d3d486caaaf",
   "metadata": {},
   "outputs": [
    {
     "name": "stdout",
     "output_type": "stream",
     "text": [
      "Epoch 1/50\n",
      "68/68 [==============================] - 37s 536ms/step - loss: 0.2879 - accuracy: 0.8719 - val_loss: 0.0352 - val_accuracy: 0.9869\n",
      "Epoch 2/50\n",
      "68/68 [==============================] - 38s 559ms/step - loss: 0.0699 - accuracy: 0.9791 - val_loss: 0.0242 - val_accuracy: 0.9921\n",
      "Epoch 3/50\n",
      "68/68 [==============================] - 40s 582ms/step - loss: 0.0373 - accuracy: 0.9903 - val_loss: 0.0249 - val_accuracy: 0.9921\n",
      "Epoch 4/50\n",
      "68/68 [==============================] - 39s 576ms/step - loss: 0.0553 - accuracy: 0.9828 - val_loss: 0.1164 - val_accuracy: 0.9659\n",
      "Epoch 5/50\n",
      "68/68 [==============================] - 39s 577ms/step - loss: 0.0360 - accuracy: 0.9870 - val_loss: 0.0320 - val_accuracy: 0.9895\n",
      "Epoch 6/50\n",
      "68/68 [==============================] - 53s 783ms/step - loss: 0.0167 - accuracy: 0.9940 - val_loss: 0.0112 - val_accuracy: 0.9974\n",
      "Epoch 7/50\n",
      "68/68 [==============================] - 42s 616ms/step - loss: 0.0179 - accuracy: 0.9940 - val_loss: 0.0163 - val_accuracy: 0.9974\n",
      "Epoch 8/50\n",
      "68/68 [==============================] - 41s 595ms/step - loss: 0.0202 - accuracy: 0.9930 - val_loss: 0.0157 - val_accuracy: 0.9974\n",
      "Epoch 9/50\n",
      "68/68 [==============================] - 45s 656ms/step - loss: 0.0263 - accuracy: 0.9926 - val_loss: 0.0137 - val_accuracy: 0.9974\n",
      "Epoch 10/50\n",
      "68/68 [==============================] - 54s 785ms/step - loss: 0.0069 - accuracy: 0.9972 - val_loss: 0.0220 - val_accuracy: 0.9974\n",
      "Epoch 11/50\n",
      "68/68 [==============================] - 46s 683ms/step - loss: 0.0268 - accuracy: 0.9926 - val_loss: 0.0128 - val_accuracy: 0.9974\n"
     ]
    }
   ],
   "source": [
    "# Training the model, with 50 iterations\n",
    "history = model.fit(X, y, batch_size=32, epochs=50, validation_split=0.15, callbacks=[early_stopping_monitor])"
   ]
  },
  {
   "cell_type": "code",
   "execution_count": 8,
   "id": "a721e2d3-d130-4f60-b943-8e0801bcbfd4",
   "metadata": {},
   "outputs": [
    {
     "name": "stdout",
     "output_type": "stream",
     "text": [
      "Saved model to disk\n",
      "INFO:tensorflow:Assets written to: CNN.model/assets\n"
     ]
    }
   ],
   "source": [
    "# Save the model\n",
    "model_json = model.to_json()\n",
    "with open(\"model.json\", \"w\") as json_file :\n",
    "    json_file.write(model_json)\n",
    "    \n",
    "model.save_weights(\"model.h5\")\n",
    "print(\"Saved model to disk\")\n",
    "\n",
    "model.save('CNN.model')"
   ]
  },
  {
   "cell_type": "code",
   "execution_count": 9,
   "id": "c11a36c7-c8f5-4e99-83e7-d6df41a30649",
   "metadata": {},
   "outputs": [
    {
     "name": "stdout",
     "output_type": "stream",
     "text": [
      "80/80 - 7s - loss: 0.0075 - accuracy: 0.9968\n",
      "test accuracy 0.9968441724777222\n",
      "test loss 0.0074808839708566666\n"
     ]
    }
   ],
   "source": [
    "test_loss, test_acc = model.evaluate(X, y, verbose=2)\n",
    "print(\"test accuracy\", test_acc)\n",
    "print(\"test loss\", test_loss)"
   ]
  },
  {
   "cell_type": "code",
   "execution_count": 11,
   "id": "e54ca56f-7721-42de-9e74-16601b4c1830",
   "metadata": {},
   "outputs": [
    {
     "data": {
      "image/png": "[encoded data removed]",
      "text/plain": [
       "<Figure size 576x360 with 2 Axes>"
      ]
     },
     "metadata": {
      "needs_background": "light"
     },
     "output_type": "display_data"
    }
   ],
   "source": [
    "# Plot a graph showing the accuracy changes during the training phase\n",
    "\n",
    "fig, ax = plt.subplots(1,2,figsize=(8,5))\n",
    "#\n",
    "ax[0].plot(history.history['accuracy'])\n",
    "ax[0].plot(history.history['val_accuracy'])\n",
    "ax[0].set_title('model accuracy')\n",
    "ax[0].set_ylabel('accuracy')\n",
    "ax[0].set_xlabel('epoch')\n",
    "ax[0].legend(['train', 'validation'], loc=4)\n",
    "#\n",
    "ax[1].plot(history.history['loss'])\n",
    "ax[1].plot(history.history['val_loss'])\n",
    "ax[1].set_title('model loss')\n",
    "ax[1].set_ylabel('loss')\n",
    "ax[1].set_xlabel('epoch')\n",
    "ax[1].legend(['train', 'validation'], loc=1)\n",
    "#\n",
    "plt.tight_layout()\n",
    "plt.savefig('accuracy.png', format='png', dpi=200)\n",
    "plt.show()"
   ]
  },
  {
   "cell_type": "code",
   "execution_count": null,
   "id": "66f494cd-5b0a-45f4-9e18-b0a80d29e71c",
   "metadata": {},
   "outputs": [],
   "source": []
  }
 ],
 "metadata": {
  "kernelspec": {
   "display_name": "Python 3 (ipykernel)",
   "language": "python",
   "name": "python3"
  },
  "language_info": {
   "codemirror_mode": {
    "name": "ipython",
    "version": 3
   },
   "file_extension": ".py",
   "mimetype": "text/x-python",
   "name": "python",
   "nbconvert_exporter": "python",
   "pygments_lexer": "ipython3",
   "version": "3.8.5"
  }
 },
 "nbformat": 4,
 "nbformat_minor": 5
}
